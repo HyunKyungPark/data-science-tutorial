from sklearn.decomposition import PCA
from sklearn.linear_model import LinearRegression
import numpy as np

# 예제 데이터
X = np.random.rand(100, 3)  # 100개의 샘플과 3개의 독립 변수
Y = np.random.rand(100, 2)  # 100개의 샘플과 2개의 종속 변수

# 주성분 분석 (PCA)
pca = PCA(n_components=2)
X_pca = pca.fit_transform(X)

# 주성분 회귀
model = LinearRegression()
model.fit(X_pca, Y)

# 예측
Y_pred = model.predict(X_pca)
